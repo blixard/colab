{
  "nbformat": 4,
  "nbformat_minor": 0,
  "metadata": {
    "colab": {
      "name": "ImgClassificationTFL.ipynb",
      "provenance": [],
      "authorship_tag": "ABX9TyMtmqVSNXnwol2Y+T0zgJg4",
      "include_colab_link": true
    },
    "kernelspec": {
      "name": "python3",
      "display_name": "Python 3"
    },
    "accelerator": "GPU"
  },
  "cells": [
    {
      "cell_type": "markdown",
      "metadata": {
        "id": "view-in-github",
        "colab_type": "text"
      },
      "source": [
        "<a href=\"https://colab.research.google.com/github/blixard/colab/blob/main/ImgClassificationTFL.ipynb\" target=\"_parent\"><img src=\"https://colab.research.google.com/assets/colab-badge.svg\" alt=\"Open In Colab\"/></a>"
      ]
    },
    {
      "cell_type": "code",
      "metadata": {
        "colab": {
          "base_uri": "https://localhost:8080/"
        },
        "id": "IxUtxy2jjJ1z",
        "outputId": "f09a23f0-d19e-484a-b37b-afb534755063"
      },
      "source": [
        "pip install -q tflite-model-maker"
      ],
      "execution_count": null,
      "outputs": [
        {
          "output_type": "stream",
          "text": [
            "\u001b[K     |████████████████████████████████| 194kB 8.2MB/s \n",
            "\u001b[K     |████████████████████████████████| 645kB 14.3MB/s \n",
            "\u001b[K     |████████████████████████████████| 1.2MB 28.4MB/s \n",
            "\u001b[K     |████████████████████████████████| 5.5MB 49.5MB/s \n",
            "\u001b[K     |████████████████████████████████| 71kB 11.8MB/s \n",
            "\u001b[K     |████████████████████████████████| 92kB 14.3MB/s \n",
            "\u001b[K     |████████████████████████████████| 849kB 50.9MB/s \n",
            "\u001b[K     |████████████████████████████████| 1.0MB 56.6MB/s \n",
            "\u001b[K     |████████████████████████████████| 706kB 54.3MB/s \n",
            "\u001b[K     |████████████████████████████████| 37.6MB 69kB/s \n",
            "\u001b[K     |████████████████████████████████| 102kB 15.6MB/s \n",
            "\u001b[K     |████████████████████████████████| 358kB 47.5MB/s \n",
            "\u001b[K     |████████████████████████████████| 174kB 64.2MB/s \n",
            "\u001b[K     |████████████████████████████████| 194kB 54.7MB/s \n",
            "\u001b[?25h  Building wheel for fire (setup.py) ... \u001b[?25l\u001b[?25hdone\n",
            "  Building wheel for py-cpuinfo (setup.py) ... \u001b[?25l\u001b[?25hdone\n",
            "\u001b[31mERROR: tensorflowjs 3.1.0 has requirement tensorflow-hub<0.10,>=0.7.0, but you'll have tensorflow-hub 0.11.0 which is incompatible.\u001b[0m\n"
          ],
          "name": "stdout"
        }
      ]
    },
    {
      "cell_type": "code",
      "metadata": {
        "id": "mL2xmqpmjctx"
      },
      "source": [
        "import numpy as np\r\n",
        "\r\n",
        "import tensorflow as tf\r\n",
        "assert tf.__version__.startswith('2')\r\n",
        "\r\n",
        "# from tensorflow_examples.lite.model_maker.core.data_util.image_dataloader import ImageClassifierDataLoader\r\n",
        "# from tensorflow_examples.lite.model_maker.core.task import image_classifier\r\n",
        "# from tensorflow_examples.lite.model_maker.core.task.model_spec import mobilenet_v2_spec\r\n",
        "# from tensorflow_examples.lite.model_maker.core.task.model_spec import ImageModelSpec\r\n",
        "from tflite_model_maker import configs\r\n",
        "from tflite_model_maker import ExportFormat\r\n",
        "from tflite_model_maker import image_classifier\r\n",
        "from tflite_model_maker import ImageClassifierDataLoader\r\n",
        "from tflite_model_maker import model_spec\r\n",
        "\r\n",
        "import matplotlib.pyplot as plt"
      ],
      "execution_count": null,
      "outputs": []
    },
    {
      "cell_type": "code",
      "metadata": {
        "colab": {
          "base_uri": "https://localhost:8080/"
        },
        "id": "dgIae194jpbo",
        "outputId": "a5c0f57b-305f-4755-95e6-b1ac7aca1bb1"
      },
      "source": [
        "image_path = tf.keras.utils.get_file(\r\n",
        "      'flower_photos',\r\n",
        "      'https://storage.googleapis.com/download.tensorflow.org/example_images/flower_photos.tgz',\r\n",
        "      untar=True)"
      ],
      "execution_count": null,
      "outputs": [
        {
          "output_type": "stream",
          "text": [
            "Downloading data from https://storage.googleapis.com/download.tensorflow.org/example_images/flower_photos.tgz\n",
            "228818944/228813984 [==============================] - 2s 0us/step\n"
          ],
          "name": "stdout"
        }
      ]
    },
    {
      "cell_type": "code",
      "metadata": {
        "colab": {
          "base_uri": "https://localhost:8080/"
        },
        "id": "7FR2p-Vpjt9v",
        "outputId": "dbeaccfd-2834-4707-828c-2672b831562a"
      },
      "source": [
        "data = ImageClassifierDataLoader.from_folder(image_path)\r\n",
        "train_data, test_data = data.split(0.9)"
      ],
      "execution_count": null,
      "outputs": [
        {
          "output_type": "stream",
          "text": [
            "INFO:tensorflow:Load image with size: 3670, num_label: 5, labels: daisy, dandelion, roses, sunflowers, tulips.\n"
          ],
          "name": "stdout"
        }
      ]
    },
    {
      "cell_type": "code",
      "metadata": {
        "colab": {
          "base_uri": "https://localhost:8080/"
        },
        "id": "7wAyJSKMjvhP",
        "outputId": "1438913c-67d7-4429-d648-d45bb3380ca7"
      },
      "source": [
        "model = image_classifier.create(train_data)"
      ],
      "execution_count": null,
      "outputs": [
        {
          "output_type": "stream",
          "text": [
            "INFO:tensorflow:Retraining the models...\n",
            "Model: \"sequential\"\n",
            "_________________________________________________________________\n",
            "Layer (type)                 Output Shape              Param #   \n",
            "=================================================================\n",
            "hub_keras_layer_v1v2 (HubKer (None, 1280)              3413024   \n",
            "_________________________________________________________________\n",
            "dropout (Dropout)            (None, 1280)              0         \n",
            "_________________________________________________________________\n",
            "dense (Dense)                (None, 5)                 6405      \n",
            "=================================================================\n",
            "Total params: 3,419,429\n",
            "Trainable params: 6,405\n",
            "Non-trainable params: 3,413,024\n",
            "_________________________________________________________________\n",
            "None\n",
            "Epoch 1/5\n",
            "103/103 [==============================] - 21s 125ms/step - loss: 1.0639 - accuracy: 0.6453\n",
            "Epoch 2/5\n",
            "103/103 [==============================] - 13s 124ms/step - loss: 0.6576 - accuracy: 0.8933\n",
            "Epoch 3/5\n",
            "103/103 [==============================] - 13s 122ms/step - loss: 0.6272 - accuracy: 0.9087\n",
            "Epoch 4/5\n",
            "103/103 [==============================] - 13s 123ms/step - loss: 0.6065 - accuracy: 0.9264\n",
            "Epoch 5/5\n",
            "103/103 [==============================] - 13s 123ms/step - loss: 0.5884 - accuracy: 0.9368\n"
          ],
          "name": "stdout"
        }
      ]
    },
    {
      "cell_type": "code",
      "metadata": {
        "colab": {
          "base_uri": "https://localhost:8080/"
        },
        "id": "fungcCTKjx6f",
        "outputId": "8d78dc2d-032e-459b-e4a5-4d07024d0ad0"
      },
      "source": [
        "loss, accuracy = model.evaluate(test_data)"
      ],
      "execution_count": null,
      "outputs": [
        {
          "output_type": "stream",
          "text": [
            "12/12 [==============================] - 5s 122ms/step - loss: 0.6072 - accuracy: 0.9346\n"
          ],
          "name": "stdout"
        }
      ]
    },
    {
      "cell_type": "code",
      "metadata": {
        "colab": {
          "base_uri": "https://localhost:8080/"
        },
        "id": "1AY7Y4d6j0EX",
        "outputId": "a62cd6ce-5517-4ca7-c36d-4f5e42dca4a0"
      },
      "source": [
        "model.export(export_dir='.', with_metadata=True)"
      ],
      "execution_count": null,
      "outputs": [
        {
          "output_type": "stream",
          "text": [
            "INFO:tensorflow:Assets written to: /tmp/tmpcpf2jp0x/assets\n"
          ],
          "name": "stdout"
        },
        {
          "output_type": "stream",
          "text": [
            "INFO:tensorflow:Assets written to: /tmp/tmpcpf2jp0x/assets\n"
          ],
          "name": "stderr"
        },
        {
          "output_type": "stream",
          "text": [
            "INFO:tensorflow:Label file is inside the TFLite model with metadata.\n"
          ],
          "name": "stdout"
        },
        {
          "output_type": "stream",
          "text": [
            "INFO:tensorflow:Label file is inside the TFLite model with metadata.\n"
          ],
          "name": "stderr"
        },
        {
          "output_type": "stream",
          "text": [
            "INFO:tensorflow:Saving labels in /tmp/tmphk42ngul/labels.txt.\n"
          ],
          "name": "stdout"
        },
        {
          "output_type": "stream",
          "text": [
            "INFO:tensorflow:Saving labels in /tmp/tmphk42ngul/labels.txt.\n"
          ],
          "name": "stderr"
        }
      ]
    },
    {
      "cell_type": "code",
      "metadata": {
        "id": "QesJgB1Xj2F4"
      },
      "source": [
        "from google.colab import files\r\n",
        "files.download('model.tflite') "
      ],
      "execution_count": null,
      "outputs": []
    }
  ]
}